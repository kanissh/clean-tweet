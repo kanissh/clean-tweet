{
 "cells": [
  {
   "cell_type": "code",
   "execution_count": 20,
   "metadata": {},
   "outputs": [],
   "source": [
    "import json\n",
    "from tqdm import tqdm\n",
    "import os"
   ]
  },
  {
   "cell_type": "code",
   "execution_count": 21,
   "metadata": {},
   "outputs": [],
   "source": [
    "def clean_file(read_file_path, write_file_path):\n",
    "\n",
    "    clean_wfp = open(write_file_path,'a')\n",
    "\n",
    "    with open(read_file_path) as f:\n",
    "        for line in tqdm(f):\n",
    "            raw_tweet = json.loads(line)\n",
    "            \n",
    "            date = raw_tweet['date']\n",
    "            content = raw_tweet['content']\n",
    "            iid = raw_tweet['id']\n",
    "            conversationId = raw_tweet['conversationId']\n",
    "            retweetedTweet = raw_tweet['retweetedTweet']\n",
    "            quotedTweet = raw_tweet['quotedTweet']\n",
    "            inReplyToTweetId = raw_tweet['inReplyToTweetId']\n",
    "            hashtags = raw_tweet['hashtags']\n",
    "\n",
    "            clean_tweet = {'date': date, 'content': content, 'id': iid, 'conversationId': conversationId, 'retweetedTweet': retweetedTweet, 'quotedTweet': quotedTweet, 'inReplyToTweetId': inReplyToTweetId, 'hashtags': hashtags}\n",
    "\n",
    "            clean_wfp.write(f'{json.dumps(clean_tweet)}\\n')\n",
    "\n",
    "    clean_wfp.close()"
   ]
  },
  {
   "cell_type": "code",
   "execution_count": 22,
   "metadata": {},
   "outputs": [],
   "source": [
    "def clean_dataset(path_to_folder, output_folder_path):\n",
    "    path = os.walk(path_to_folder)\n",
    "    for root, directories, files in path:\n",
    "        for file in tqdm(files):\n",
    "            clean_file(f'{path_to_folder}/{file}', f'{output_folder_path}/clean-{file}')"
   ]
  },
  {
   "cell_type": "code",
   "execution_count": 23,
   "metadata": {},
   "outputs": [
    {
     "name": "stderr",
     "output_type": "stream",
     "text": [
      "370121it [01:26, 4289.19it/s]?, ?it/s]\n",
      "236851it [01:06, 3546.14it/s]30:56, 88.40s/it]\n",
      "239241it [01:31, 2610.89it/s]25:58, 77.91s/it]\n",
      "236684it [03:37, 1085.77it/s]26:41, 84.27s/it]\n",
      "255515it [03:00, 1411.98it/s]41:11, 137.32s/it]\n",
      "173256it [02:00, 1437.61it/s]43:26, 153.32s/it]\n",
      "226257it [01:35, 2359.84it/s]37:56, 142.29s/it]\n",
      "210680it [00:47, 4427.90it/s] 2:16, 129.10s/it]\n",
      "248438it [01:02, 3965.76it/s]24:28, 104.89s/it]\n",
      "242440it [00:50, 4785.88it/s]19:52, 91.72s/it] \n",
      "204637it [01:01, 3352.52it/s]<15:58, 79.91s/it]\n",
      "267790it [02:13, 2010.28it/s]<13:35, 74.18s/it]\n",
      "242554it [01:25, 2839.70it/s]<15:28, 92.88s/it]\n",
      "308563it [01:31, 3376.48it/s]<13:42, 91.43s/it]\n",
      "226503it [01:14, 3035.62it/s]<12:22, 92.86s/it]\n",
      "308729it [01:12, 4270.31it/s]<10:17, 88.15s/it]\n",
      "261144it [01:05, 4003.21it/s]<08:24, 84.15s/it]\n",
      "254849it [01:05, 3910.13it/s]<06:37, 79.50s/it]\n",
      "272587it [00:47, 5762.30it/s] 05:04, 76.01s/it]\n",
      "6068it [00:00, 12050.49it/s]0<03:22, 67.56s/it]\n",
      "213103it [00:21, 9789.74it/s] 01:34, 47.44s/it]\n",
      "219761it [00:17, 12536.57it/s]00:40, 40.50s/it]\n",
      "100%|██████████| 22/22 [30:03<00:00, 81.97s/it]\n"
     ]
    }
   ],
   "source": [
    "# clean_dataset('F:\\\\FOS\\\\400L\\\\cs421-research-project\\\\scrape-data\\\\test\\\\test-unclean','F:\\\\FOS\\\\400L\\\\cs421-research-project\\\\scrape-data\\\\test\\\\test-clean')\n",
    "clean_dataset('F:\\\\FOS\\\\400L\\\\cs421-research-project\\\\scrape-data\\\\dataset-si','F:\\\\FOS\\\\400L\\\\cs421-research-project\\\\scrape-data\\\\clean-dataset-si')"
   ]
  },
  {
   "cell_type": "code",
   "execution_count": 26,
   "metadata": {},
   "outputs": [
    {
     "name": "stderr",
     "output_type": "stream",
     "text": [
      "6068it [00:00, 6313.60it/s]\n"
     ]
    }
   ],
   "source": [
    "# remainjan20 = open('F:\\\\FOS\\\\400L\\\\cs421-research-project\\\\scrape-data\\\\clean-dataset-si\\\\clean-remainjan20.json', 'r')\n",
    "# jan20 = open('F:\\\\FOS\\\\400L\\\\cs421-research-project\\\\scrape-data\\\\clean-dataset-si\\\\clean-jan20.json','a')\n",
    "\n",
    "# with remainjan20 as f:\n",
    "#     for line in tqdm(f):\n",
    "#         jan20.write(line)"
   ]
  }
 ],
 "metadata": {
  "interpreter": {
   "hash": "31f2aee4e71d21fbe5cf8b01ff0e069b9275f58929596ceb00d14d90e3e16cd6"
  },
  "kernelspec": {
   "display_name": "Python 3.8.10 64-bit",
   "name": "python3"
  },
  "language_info": {
   "codemirror_mode": {
    "name": "ipython",
    "version": 3
   },
   "file_extension": ".py",
   "mimetype": "text/x-python",
   "name": "python",
   "nbconvert_exporter": "python",
   "pygments_lexer": "ipython3",
   "version": "3.9.7"
  },
  "orig_nbformat": 4
 },
 "nbformat": 4,
 "nbformat_minor": 2
}
