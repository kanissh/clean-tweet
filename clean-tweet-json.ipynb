{
 "cells": [
  {
   "cell_type": "code",
   "execution_count": 1,
   "metadata": {},
   "outputs": [],
   "source": [
    "import json"
   ]
  },
  {
   "cell_type": "code",
   "execution_count": 2,
   "metadata": {},
   "outputs": [],
   "source": [
    "rawTweets = pd.read_json('../snscrape-sinhala/jan20.json', lines=True)"
   ]
  },
  {
   "cell_type": "code",
   "execution_count": 7,
   "metadata": {},
   "outputs": [
    {
     "name": "stdout",
     "output_type": "stream",
     "text": [
      "‘ගැටුම් ඇති විය හැකි රටවල් 10’ අතරට ශ්‍රී ලංකාවත් https://t.co/UblqJGJBfJ https://t.co/gGqvG0NbZG\n",
      "ඉන්ටර්විව් එක කරා.\n",
      "\n",
      "හම්මේ... https://t.co/UpMeKjh56J\n",
      "මම යනව නිදාගන්න මල විකාර 😏\n",
      "@LakshanPramody අවුලක් නෑ මට සෙට් උනේ MI\n",
      "\"මේක අපි ලබපු ජයග්‍රහණයක් - සන්ධානයේ වැඩි බලතල සජිත්ට\" - නලින් බණ්ඩාර https://t.co/5biBvymPqp\n",
      "@ShehanThamel පිස්සු කෙලින්ඩ එපා\n",
      "@dead_mans_creed අනා\n",
      "ශ්‍රීලනිපය තනියම ඉල්ලුවොත් ආසන 04 යි ගන්නෙ - රොෂාන් රණසිංහ https://t.co/JgBXuZcwpU\n",
      "ඉවිල් කොර්ප්\n",
      "@shashini_silva ටොපී කන්න පඩුරු දාන්න\n",
      "@dudeum_Nethu ස්තුති නෙතු 😊🍁🍁\n",
      "@Sand4Dhananjaya @DilushaDishana1 ස්තුති අයියේ 😊🍁🍁\n",
      "@noodles1191 ස්තුති නෙතුවො 😊🍁🍁\n",
      "@imtutuu ස්තුති මල්ලියා 😊🍁🍁\n",
      "@IndrajithTweets ස්තුති මල්ලියා 😊🍁🍁\n",
      "දෑස පියාගත් කල මට මැවෙන්නෙ ඔබෙ රුව\n",
      "ඈත කදුකරෙන් එන නල ගෙනෙන්නෙ ඔබෙ හඩ..\n",
      "කුමාරියේ...අමතක නොවේ....ලස්සන රුවේ...\n",
      "සිත සැනසුවේ..... ❤️🎶 #Sajje\n",
      "සමහර විටක AI යුගය අපට නැවත ආරාධානා කරනුයේ මිනිසාගේ සැබෑ ස්වරූපය වෙත නැවත යන්නට විය හැක. වෙනත් ආකාරයකට පවසන්නේ නම් වඩාත් තාර්කික හා ගනිතමය ආවරනයක් ලත් භාවමය ජීවිතය කට විය හැක. තවත් ආකාරයකට පවසන්නේ නම් මිනිස් වර්ගයාගේ සැබෑ උරමය වූ සතා සිව්පාවා ..\n",
      "\"THATU MINISA\"\n",
      "-Pubudu Siriwansa https://t.co/RbebTkBxpF\n",
      "නින්දේදී ගෙරවීම සාමාන්‍ය දෙයක් කියල නම් හිතන්න එපා ඔබ නොදන්න, අනිත් අයට වදයක් වුණ, සමහර විට ඔබටම වදයක් වුණ නින්දේදී ගෙරවීම අපි සාමාන්‍ය දෙයක් ලෙස බැහැර කලත් එසේ බැහැර කල නොහැකි https://t.co/ISFp5dEvhE\n",
      "මෙරට වැඩබිම්වල සිටින චීන ජාතිකයින්ටත් සීමා https://t.co/7OTgk6YU5H\n",
      "ශ්‍රීලනිපය තනියම ඉල්ලුවොත් ආසන 04 යි ගන්නෙ - රොෂාන් රණසිංහ https://t.co/1aKBwCmlVC\n",
      "සුබ උපන් දිනයක් වේවා! @_ivon_silva\n",
      "@Wasanthishiyam1 ඔයා,,,,,,,ඔච්චරයි ලස්සන උනේ කොහොමද ,,,,,,,,😊😊😊😊😊😊😊😊\n",
      "යලිදු පතන්නට පැතුම් පෙළක් නැත\n",
      "හිත හැඬුවා මුළු ලොවට හොරෙන් \n",
      "සමුගෙන යන්නෙමි යලිත් නොඑන්නට\n",
      "ඔබේ සුවඳ ගෙන ඔබට හොරෙන් #Sajje\n",
      "සිගරට් එකයි හෘද රෝගයි අතරේ තියෙන්නේ ඊට වඩා සමීප බැඳීමක්  🖤 https://t.co/7gktl5WSF1\n",
      "මගේ පුංචි නවාතැනේ\n",
      "ඇවිදින් සැරි සරණවානම්\n",
      "ආසයි මම කවුළුපියන් - හැරලා තියන්න..\n",
      "තරහක් නැහැ නෑවිත් ඉන්න..💔 #Sajje\n",
      "@devinda_hemal නෑ නෑ චන්ඩි නෑ නිදා ගන්ඩ වෙලාව නේ 3.43am😂\n",
      "මෛත‍්‍රී-මහින්ද පොහොට්ටුවේ සම නායකත්වයට.. නව සන්ධානය සූදානම්.. https://t.co/lD44nRStYU https://t.co/hBvS7aClBB\n",
      "ඔබ මා හමුවේ නම්\n",
      "එකම කතාවක් එකම වතාවක්\n",
      "යලිත් කියන්නට\n",
      "ඔබ මා හමුවේ නම්... 💔 #Sajje\n",
      "@PraveenNadeera @ShenayaOvindhi මේ දවස්වල  සීතල වැඩියි .මං දැන් ඉන්නේ  බදුල්ලේ .මෙහෙත් එහෙමයි.මේ දවස් වල සීතලයි\n",
      "ඇගෙ වත මට නොපෙනේ නම්\n",
      "පුන්සද ඇයි හිනැහෙන්නේ...\n",
      "නැති දා ඇගෙ ගී රාවේ\n",
      "කොවුලනි ඇයි ගී ගැයුවේ... #Sajje\n",
      "සාගරය තුරුල්ලේ යාවි ගං දිය\n",
      "විඩා නිවයි සිඳු රළින් හැඟුම්බර\n",
      "ස්නේහයක උපන් කවියක් කැට තලයක\n",
      "ලියා තබමි නුඹ නමින් සදාතන.. #Sajje\n",
      "සිතින් මා නොසැලී සිටිද්දී කඳුල නුඹ ‍ඇවිදින්...\n",
      "නිවා දැමුවේ නෙතේ පීඩා නොබිදිනූ මැනවී..\n",
      "තනිව මා හඩනා වෙලාවේ සැලි සැලී සිහිනේ..\n",
      "වැටුනු මහ වරුසා මතක්වී නුඹ රැදී දෑසේ.. 🎶 #Sajje\n",
      "දෙනුවන් වැසී ඈත තරුනෙත් මැකී\n",
      "තනිව හඬනා රැයේ හදට දී වේදනා\n",
      "එක්වී ලගින් ඉන්න ලංවී සිනාසෙන්න\n",
      "දුර ඈත සිට එන්න........ 🎶\n",
      "උන්මාදනී හැංගුණා\n",
      "අනුරාග දෑසින් බලා\n",
      "සොඳුරුයි සුපෙම් ලෝචනා\n",
      "නෑසෙයි නුඹේ ගායනා\n",
      "දෙනුවන් සෙවූ අංගනා\n",
      "රාධා මගේ අංජනා.. #Sajje\n",
      "නිදි යහනට යන්න ගියේ\n",
      "ඔබ ගැන සිහි කරමිනුයි ප්‍රියේ\n",
      "ඒ උනාට ඔබ පමණයි\n",
      "සිහිනෙන් හෝ මට හිටියේ. #Sajje 🎶\n",
      "@nisalatp @Chandu_original @ShenayaOvindhi @hwbdissanayake ලයිට් ඕෆ් කරාම බන්ඩාර නේ 😄😁\n",
      "@LakshanPramody අප්පා එහෙනන් වෙන අව්ලක්\n",
      "බුදි නේ??? 🤭🤭\n",
      "@LadyBossHippo අංගුලිමාල රහතන් වහන්සේට ඔබව සම කල හැකිද? බැනේ ඒ හින්දා තමයි වද දෙනව ඇත්තේ..\n",
      "වුහාන් නගරයේ සිටින ලාංකික සිසුන් 34 දෙනෙක් රැගත් ශ්‍රී ලන්කන් ගුවන් සේවයට අයත් UL-1423 දරන ගුවන් යානය යලි ශ්‍රී ලංකාව බලා ඒම සඳහා ගුවන් ගතව ඇත. මෙම පිරිස දිවයිනට රැගෙන එමෙන් පසුව ආරක්ෂා සහිතව දියතලාව හමුදා කඳවුර වෙත රැගෙන යාමට නියමිතයි #lka #SriLanka #coronarvirus\n"
     ]
    }
   ],
   "source": [
    "for i in range(20, 60):\n",
    "    print(rawTweets.loc[i,'content'])"
   ]
  },
  {
   "cell_type": "code",
   "execution_count": null,
   "metadata": {},
   "outputs": [],
   "source": [
    "removeColumns = ['_type', 'likeCount', 'media', 'place', 'cashtags', 'inReplyToUser', 'mentionedUsers', 'coordinates', 'inReplyToTweetId', 'inReplyToUser', 'outlinks', 'tcooutlinks', 'sourceLabel', 'source', 'sourceUrl']\n",
    "\n",
    "rawTweets.drop(removeColumns, axis=1)"
   ]
  }
 ],
 "metadata": {
  "interpreter": {
   "hash": "31f2aee4e71d21fbe5cf8b01ff0e069b9275f58929596ceb00d14d90e3e16cd6"
  },
  "kernelspec": {
   "display_name": "Python 3.8.10 64-bit",
   "name": "python3"
  },
  "language_info": {
   "codemirror_mode": {
    "name": "ipython",
    "version": 3
   },
   "file_extension": ".py",
   "mimetype": "text/x-python",
   "name": "python",
   "nbconvert_exporter": "python",
   "pygments_lexer": "ipython3",
   "version": "3.9.7"
  },
  "orig_nbformat": 4
 },
 "nbformat": 4,
 "nbformat_minor": 2
}
