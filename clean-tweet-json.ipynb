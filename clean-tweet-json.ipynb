{
 "cells": [
  {
   "cell_type": "code",
   "execution_count": 1,
   "metadata": {},
   "outputs": [],
   "source": [
    "import json\n",
    "from tqdm import tqdm\n",
    "import os"
   ]
  },
  {
   "cell_type": "code",
   "execution_count": 2,
   "metadata": {},
   "outputs": [],
   "source": [
    "def clean_file(read_file_path, write_file_path):\n",
    "\n",
    "    clean_test = open(write_file_path,'a')\n",
    "\n",
    "    with open(read_file_path) as f:\n",
    "        for line in tqdm(f):\n",
    "            raw_tweet = json.loads(line)\n",
    "            \n",
    "            date = raw_tweet['date']\n",
    "            content = raw_tweet['content']\n",
    "            iid = raw_tweet['id']\n",
    "            conversationId = raw_tweet['conversationId']\n",
    "            retweetedTweet = raw_tweet['retweetedTweet']\n",
    "            quotedTweet = raw_tweet['quotedTweet']\n",
    "            inReplyToTweetId = raw_tweet['inReplyToTweetId']\n",
    "            hashtags = raw_tweet['hashtags']\n",
    "\n",
    "            clean_tweet = {'date': date, 'content': content, 'id': iid, 'conversationId': conversationId, 'retweetedTweet': retweetedTweet, 'quotedTweet': quotedTweet, 'inReplyToTweetId': inReplyToTweetId, 'hashtags': hashtags}\n",
    "\n",
    "            clean_test.write(f'{json.dumps(clean_tweet)}\\n')\n",
    "\n",
    "    clean_test.close()"
   ]
  },
  {
   "cell_type": "code",
   "execution_count": 3,
   "metadata": {},
   "outputs": [],
   "source": [
    "def clean_dataset(path_to_folder, output_folder_path):\n",
    "    path = os.walk(path_to_folder)\n",
    "    for root, direstories, files in path:\n",
    "        for file in tqdm(files):\n",
    "            clean_file(f'{path_to_folder}/{file}', f'{output_folder_path}/clean-{file}')"
   ]
  },
  {
   "cell_type": "code",
   "execution_count": 4,
   "metadata": {},
   "outputs": [
    {
     "name": "stderr",
     "output_type": "stream",
     "text": [
      "5it [00:00, 4995.60it/s]:00<?, ?it/s]\n",
      "100%|██████████| 1/1 [00:00<00:00, 200.06it/s]\n"
     ]
    }
   ],
   "source": [
    "clean_dataset('F:\\\\FOS\\\\400L\\\\cs421-research-project\\\\scrape-data\\\\test','F:\\\\FOS\\\\400L\\\\cs421-research-project\\\\scrape-data\\\\test')"
   ]
  }
 ],
 "metadata": {
  "interpreter": {
   "hash": "31f2aee4e71d21fbe5cf8b01ff0e069b9275f58929596ceb00d14d90e3e16cd6"
  },
  "kernelspec": {
   "display_name": "Python 3.8.10 64-bit",
   "name": "python3"
  },
  "language_info": {
   "codemirror_mode": {
    "name": "ipython",
    "version": 3
   },
   "file_extension": ".py",
   "mimetype": "text/x-python",
   "name": "python",
   "nbconvert_exporter": "python",
   "pygments_lexer": "ipython3",
   "version": "3.9.7"
  },
  "orig_nbformat": 4
 },
 "nbformat": 4,
 "nbformat_minor": 2
}
